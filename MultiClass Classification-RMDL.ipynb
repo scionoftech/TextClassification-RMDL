{
 "cells": [
  {
   "cell_type": "markdown",
   "metadata": {},
   "source": [
    "## BBC Text MultiClass Classification - RMDL: Random Multimodel Deep Learning"
   ]
  },
  {
   "cell_type": "markdown",
   "metadata": {},
   "source": [
    "Random Multimodel Deep Learning is a new ensemble, deep learning approach for classification. Deep learning models have achieved state-of-the-art results across many domains. RMDL solves the problem of finding the best deep learning structure and architecture while simultaneously improving robustness and accuracy through ensembles of deep learning architectures. RDML can accept as input a variety data to include text, video, images, and symbolic."
   ]
  },
  {
   "cell_type": "markdown",
   "metadata": {},
   "source": [
    "RMDL includes 3 Random models, oneDNN classifier at left, one Deep CNN classifier at middle, and one Deep RNN classifier at right (each unit could be LSTMor GRU)."
   ]
  },
  {
   "cell_type": "markdown",
   "metadata": {},
   "source": [
    "[![RMDL](https://camo.githubusercontent.com/9c65085618b4e97694a05b9dce9db3771679bd34/687474703a2f2f6b6f77736172692e6e65742f6f6e657765626d656469612f524d444c2e6a7067)](https://github.com/kk7nc/RMDL)"
   ]
  },
  {
   "cell_type": "markdown",
   "metadata": {},
   "source": [
    "Find more details about Random Multimodel Deep Learning at [RMDL](https://github.com/kk7nc/RMDL)"
   ]
  },
  {
   "cell_type": "code",
   "execution_count": 1,
   "metadata": {},
   "outputs": [
    {
     "name": "stderr",
     "output_type": "stream",
     "text": [
      "Using TensorFlow backend.\n"
     ]
    },
    {
     "name": "stdout",
     "output_type": "stream",
     "text": [
      "sys.version_info(major=3, minor=6, micro=8, releaselevel='final', serial=0)\n",
      "sys.version_info(major=3, minor=6, micro=8, releaselevel='final', serial=0)\n"
     ]
    },
    {
     "name": "stderr",
     "output_type": "stream",
     "text": [
      "[nltk_data] Downloading package stopwords to /home/syava/nltk_data...\n",
      "[nltk_data]   Package stopwords is already up-to-date!\n"
     ]
    }
   ],
   "source": [
    "# load packages\n",
    "from RMDL import text_feature_extraction as txt\n",
    "from keras.datasets import imdb\n",
    "import numpy as np\n",
    "from RMDL import RMDL_Text as RMDL\n",
    "import pandas as pd\n",
    "import matplotlib.pyplot as plt\n",
    "import seaborn as sns\n",
    "from sklearn import model_selection, preprocessing"
   ]
  },
  {
   "cell_type": "code",
   "execution_count": 2,
   "metadata": {},
   "outputs": [],
   "source": [
    "# load the dataset\n",
    "trainDF = pd.read_csv('bbc-text.csv') # encoding = \"latin\""
   ]
  },
  {
   "cell_type": "code",
   "execution_count": 3,
   "metadata": {},
   "outputs": [
    {
     "data": {
      "text/html": [
       "<div>\n",
       "<style scoped>\n",
       "    .dataframe tbody tr th:only-of-type {\n",
       "        vertical-align: middle;\n",
       "    }\n",
       "\n",
       "    .dataframe tbody tr th {\n",
       "        vertical-align: top;\n",
       "    }\n",
       "\n",
       "    .dataframe thead th {\n",
       "        text-align: right;\n",
       "    }\n",
       "</style>\n",
       "<table border=\"1\" class=\"dataframe\">\n",
       "  <thead>\n",
       "    <tr style=\"text-align: right;\">\n",
       "      <th></th>\n",
       "      <th>category</th>\n",
       "      <th>text</th>\n",
       "    </tr>\n",
       "  </thead>\n",
       "  <tbody>\n",
       "    <tr>\n",
       "      <th>0</th>\n",
       "      <td>tech</td>\n",
       "      <td>tv future in the hands of viewers with home th...</td>\n",
       "    </tr>\n",
       "    <tr>\n",
       "      <th>1</th>\n",
       "      <td>business</td>\n",
       "      <td>worldcom boss  left books alone  former worldc...</td>\n",
       "    </tr>\n",
       "    <tr>\n",
       "      <th>2</th>\n",
       "      <td>sport</td>\n",
       "      <td>tigers wary of farrell  gamble  leicester say ...</td>\n",
       "    </tr>\n",
       "    <tr>\n",
       "      <th>3</th>\n",
       "      <td>sport</td>\n",
       "      <td>yeading face newcastle in fa cup premiership s...</td>\n",
       "    </tr>\n",
       "    <tr>\n",
       "      <th>4</th>\n",
       "      <td>entertainment</td>\n",
       "      <td>ocean s twelve raids box office ocean s twelve...</td>\n",
       "    </tr>\n",
       "    <tr>\n",
       "      <th>5</th>\n",
       "      <td>politics</td>\n",
       "      <td>howard hits back at mongrel jibe michael howar...</td>\n",
       "    </tr>\n",
       "    <tr>\n",
       "      <th>6</th>\n",
       "      <td>politics</td>\n",
       "      <td>blair prepares to name poll date tony blair is...</td>\n",
       "    </tr>\n",
       "    <tr>\n",
       "      <th>7</th>\n",
       "      <td>sport</td>\n",
       "      <td>henman hopes ended in dubai third seed tim hen...</td>\n",
       "    </tr>\n",
       "    <tr>\n",
       "      <th>8</th>\n",
       "      <td>sport</td>\n",
       "      <td>wilkinson fit to face edinburgh england captai...</td>\n",
       "    </tr>\n",
       "    <tr>\n",
       "      <th>9</th>\n",
       "      <td>entertainment</td>\n",
       "      <td>last star wars  not for children  the sixth an...</td>\n",
       "    </tr>\n",
       "  </tbody>\n",
       "</table>\n",
       "</div>"
      ],
      "text/plain": [
       "        category                                               text\n",
       "0           tech  tv future in the hands of viewers with home th...\n",
       "1       business  worldcom boss  left books alone  former worldc...\n",
       "2          sport  tigers wary of farrell  gamble  leicester say ...\n",
       "3          sport  yeading face newcastle in fa cup premiership s...\n",
       "4  entertainment  ocean s twelve raids box office ocean s twelve...\n",
       "5       politics  howard hits back at mongrel jibe michael howar...\n",
       "6       politics  blair prepares to name poll date tony blair is...\n",
       "7          sport  henman hopes ended in dubai third seed tim hen...\n",
       "8          sport  wilkinson fit to face edinburgh england captai...\n",
       "9  entertainment  last star wars  not for children  the sixth an..."
      ]
     },
     "execution_count": 3,
     "metadata": {},
     "output_type": "execute_result"
    }
   ],
   "source": [
    "trainDF.head(10)"
   ]
  },
  {
   "cell_type": "code",
   "execution_count": 4,
   "metadata": {},
   "outputs": [
    {
     "data": {
      "text/plain": [
       "(2225, 2)"
      ]
     },
     "execution_count": 4,
     "metadata": {},
     "output_type": "execute_result"
    }
   ],
   "source": [
    "trainDF.shape"
   ]
  },
  {
   "cell_type": "code",
   "execution_count": 5,
   "metadata": {},
   "outputs": [
    {
     "data": {
      "text/plain": [
       "array(['tech', 'business', 'sport', 'entertainment', 'politics'],\n",
       "      dtype=object)"
      ]
     },
     "execution_count": 5,
     "metadata": {},
     "output_type": "execute_result"
    }
   ],
   "source": [
    "trainDF['category'].unique()"
   ]
  },
  {
   "cell_type": "code",
   "execution_count": 6,
   "metadata": {},
   "outputs": [
    {
     "data": {
      "text/plain": [
       "sport            511\n",
       "business         510\n",
       "politics         417\n",
       "tech             401\n",
       "entertainment    386\n",
       "Name: category, dtype: int64"
      ]
     },
     "execution_count": 6,
     "metadata": {},
     "output_type": "execute_result"
    }
   ],
   "source": [
    "trainDF['category'].value_counts()"
   ]
  },
  {
   "cell_type": "code",
   "execution_count": 7,
   "metadata": {},
   "outputs": [
    {
     "data": {
      "text/plain": [
       "<matplotlib.axes._subplots.AxesSubplot at 0x7f44644885f8>"
      ]
     },
     "execution_count": 7,
     "metadata": {},
     "output_type": "execute_result"
    },
    {
     "data": {
      "image/png": "[encoded data removed]",
      "text/plain": [
       "<Figure size 432x288 with 1 Axes>"
      ]
     },
     "metadata": {
      "needs_background": "light"
     },
     "output_type": "display_data"
    }
   ],
   "source": [
    "sns.countplot(trainDF['category'])"
   ]
  },
  {
   "cell_type": "markdown",
   "metadata": {},
   "source": [
    "## Data preparation"
   ]
  },
  {
   "cell_type": "code",
   "execution_count": 8,
   "metadata": {},
   "outputs": [],
   "source": [
    "text = trainDF['text'].values\n",
    "encoder = preprocessing.LabelEncoder()\n",
    "labels = encoder.fit_transform(trainDF['category'].values)"
   ]
  },
  {
   "cell_type": "code",
   "execution_count": 9,
   "metadata": {},
   "outputs": [],
   "source": [
    "#split the data into train and test dataset\n",
    "\n",
    "split_data = int(len(text) * 0.85)\n",
    "\n",
    "train_text = text[:split_data]\n",
    "train_labels = labels[:split_data]\n",
    "\n",
    "test_text = text[split_data:]\n",
    "test_labels = labels[split_data:]"
   ]
  },
  {
   "cell_type": "code",
   "execution_count": 10,
   "metadata": {},
   "outputs": [
    {
     "name": "stdout",
     "output_type": "stream",
     "text": [
      "Done1\n",
      "tf-idf with 27702 features\n",
      "/home/syava/Documents/work_files/innoclique/pdf_work/new_work/modeling/Glove/glove.6B/glove.6B.50d.txt\n",
      "Found 29726 unique tokens.\n",
      "(2225, 500)\n",
      "Total 400000 word vectors.\n",
      "5\n",
      "DNN 0\n",
      "WARNING:tensorflow:From /home/syava/.local/lib/python3.6/site-packages/tensorflow/python/framework/op_def_library.py:263: colocate_with (from tensorflow.python.framework.ops) is deprecated and will be removed in a future version.\n",
      "Instructions for updating:\n",
      "Colocations handled automatically by placer.\n",
      "WARNING:tensorflow:From /home/syava/.local/lib/python3.6/site-packages/keras/backend/tensorflow_backend.py:3445: calling dropout (from tensorflow.python.ops.nn_ops) with keep_prob is deprecated and will be removed in a future version.\n",
      "Instructions for updating:\n",
      "Please use `rate` instead of `keep_prob`. Rate should be set to `rate = 1 - keep_prob`.\n",
      "<keras.optimizers.Adam object at 0x7f4443aec7f0>\n",
      "WARNING:tensorflow:From /home/syava/.local/lib/python3.6/site-packages/tensorflow/python/ops/math_ops.py:3066: to_int32 (from tensorflow.python.ops.math_ops) is deprecated and will be removed in a future version.\n",
      "Instructions for updating:\n",
      "Use tf.cast instead.\n",
      "Train on 1891 samples, validate on 334 samples\n",
      "Epoch 1/5\n",
      " - 8s - loss: 1.5970 - acc: 0.2258 - val_loss: 1.5536 - val_acc: 0.2275\n",
      "\n",
      "Epoch 00001: val_acc improved from -inf to 0.22754, saving model to weights\\weights_DNN_0.hdf5\n",
      "Epoch 2/5\n",
      " - 6s - loss: 1.3455 - acc: 0.2977 - val_loss: 1.2099 - val_acc: 0.4132\n",
      "\n",
      "Epoch 00002: val_acc improved from 0.22754 to 0.41317, saving model to weights\\weights_DNN_0.hdf5\n",
      "Epoch 3/5\n",
      " - 6s - loss: 1.1901 - acc: 0.4379 - val_loss: 1.2143 - val_acc: 0.5868\n",
      "\n",
      "Epoch 00003: val_acc improved from 0.41317 to 0.58683, saving model to weights\\weights_DNN_0.hdf5\n",
      "Epoch 4/5\n",
      " - 6s - loss: 0.9983 - acc: 0.5161 - val_loss: 0.8710 - val_acc: 0.6078\n",
      "\n",
      "Epoch 00004: val_acc improved from 0.58683 to 0.60778, saving model to weights\\weights_DNN_0.hdf5\n",
      "Epoch 5/5\n",
      " - 6s - loss: 0.7158 - acc: 0.6219 - val_loss: 0.7886 - val_acc: 0.5689\n",
      "\n",
      "Epoch 00005: val_acc did not improve from 0.60778\n",
      "DNN 1\n",
      "<keras.optimizers.Adagrad object at 0x7f443beda240>\n",
      "Train on 1891 samples, validate on 334 samples\n",
      "Epoch 1/5\n",
      " - 7s - loss: 0.6485 - acc: 0.7541 - val_loss: 0.1162 - val_acc: 0.9641\n",
      "\n",
      "Epoch 00001: val_acc improved from -inf to 0.96407, saving model to weights\\weights_DNN_1.hdf5\n",
      "Epoch 2/5\n",
      " - 6s - loss: 0.0264 - acc: 0.9952 - val_loss: 0.0650 - val_acc: 0.9701\n",
      "\n",
      "Epoch 00002: val_acc improved from 0.96407 to 0.97006, saving model to weights\\weights_DNN_1.hdf5\n",
      "Epoch 3/5\n",
      " - 6s - loss: 0.0042 - acc: 0.9995 - val_loss: 0.0627 - val_acc: 0.9731\n",
      "\n",
      "Epoch 00003: val_acc improved from 0.97006 to 0.97305, saving model to weights\\weights_DNN_1.hdf5\n",
      "Epoch 4/5\n",
      " - 6s - loss: 0.0016 - acc: 1.0000 - val_loss: 0.0641 - val_acc: 0.9731\n",
      "\n",
      "Epoch 00004: val_acc did not improve from 0.97305\n",
      "Epoch 5/5\n",
      " - 6s - loss: 8.7134e-04 - acc: 1.0000 - val_loss: 0.0653 - val_acc: 0.9731\n",
      "\n",
      "Epoch 00005: val_acc did not improve from 0.97305\n",
      "DNN 2\n",
      "<keras.optimizers.Adam object at 0x7f443b9777f0>\n",
      "Train on 1891 samples, validate on 334 samples\n",
      "Epoch 1/5\n",
      " - 6s - loss: 1.5274 - acc: 0.3448 - val_loss: 1.0687 - val_acc: 0.7844\n",
      "\n",
      "Epoch 00001: val_acc improved from -inf to 0.78443, saving model to weights\\weights_DNN_2.hdf5\n",
      "Epoch 2/5\n",
      " - 5s - loss: 0.4645 - acc: 0.9059 - val_loss: 0.0774 - val_acc: 0.9760\n",
      "\n",
      "Epoch 00002: val_acc improved from 0.78443 to 0.97605, saving model to weights\\weights_DNN_2.hdf5\n",
      "Epoch 3/5\n",
      " - 5s - loss: 0.0281 - acc: 0.9926 - val_loss: 0.0740 - val_acc: 0.9731\n",
      "\n",
      "Epoch 00003: val_acc did not improve from 0.97605\n",
      "Epoch 4/5\n",
      " - 5s - loss: 0.0069 - acc: 0.9974 - val_loss: 0.1167 - val_acc: 0.9641\n",
      "\n",
      "Epoch 00004: val_acc did not improve from 0.97605\n",
      "Epoch 5/5\n",
      " - 5s - loss: 0.0026 - acc: 0.9995 - val_loss: 0.1013 - val_acc: 0.9731\n",
      "\n",
      "Epoch 00005: val_acc did not improve from 0.97605\n",
      "RNN 0\n",
      "2\n",
      "124\n",
      "<keras.optimizers.RMSprop object at 0x7f445ffbc198>\n",
      "Train on 1891 samples, validate on 334 samples\n",
      "Epoch 1/5\n",
      " - 48s - loss: 1.4479 - acc: 0.3876 - val_loss: 1.1114 - val_acc: 0.5719\n",
      "\n",
      "Epoch 00001: val_acc improved from -inf to 0.57186, saving model to weights\\weights_RNN_0.hdf5\n",
      "Epoch 2/5\n",
      " - 44s - loss: 1.0765 - acc: 0.5955 - val_loss: 0.9660 - val_acc: 0.6347\n",
      "\n",
      "Epoch 00002: val_acc improved from 0.57186 to 0.63473, saving model to weights\\weights_RNN_0.hdf5\n",
      "Epoch 3/5\n",
      " - 45s - loss: 0.8248 - acc: 0.6965 - val_loss: 0.7758 - val_acc: 0.7335\n",
      "\n",
      "Epoch 00003: val_acc improved from 0.63473 to 0.73353, saving model to weights\\weights_RNN_0.hdf5\n",
      "Epoch 4/5\n",
      " - 45s - loss: 0.6836 - acc: 0.7583 - val_loss: 0.5546 - val_acc: 0.8204\n",
      "\n",
      "Epoch 00004: val_acc improved from 0.73353 to 0.82036, saving model to weights\\weights_RNN_0.hdf5\n",
      "Epoch 5/5\n",
      " - 45s - loss: 0.5527 - acc: 0.8160 - val_loss: 0.4455 - val_acc: 0.8563\n",
      "\n",
      "Epoch 00005: val_acc improved from 0.82036 to 0.85629, saving model to weights\\weights_RNN_0.hdf5\n",
      "RNN 1\n",
      "1\n",
      "68\n",
      "<keras.optimizers.Adagrad object at 0x7f445d59d358>\n",
      "Train on 1891 samples, validate on 334 samples\n",
      "Epoch 1/5\n",
      " - 14s - loss: 1.4895 - acc: 0.3702 - val_loss: 1.1377 - val_acc: 0.5719\n",
      "\n",
      "Epoch 00001: val_acc improved from -inf to 0.57186, saving model to weights\\weights_RNN_1.hdf5\n",
      "Epoch 2/5\n",
      " - 12s - loss: 0.9664 - acc: 0.6441 - val_loss: 0.6908 - val_acc: 0.7515\n",
      "\n",
      "Epoch 00002: val_acc improved from 0.57186 to 0.75150, saving model to weights\\weights_RNN_1.hdf5\n",
      "Epoch 3/5\n",
      " - 13s - loss: 0.5419 - acc: 0.8197 - val_loss: 0.4391 - val_acc: 0.8473\n",
      "\n",
      "Epoch 00003: val_acc improved from 0.75150 to 0.84731, saving model to weights\\weights_RNN_1.hdf5\n",
      "Epoch 4/5\n",
      " - 13s - loss: 0.3129 - acc: 0.9059 - val_loss: 0.2182 - val_acc: 0.9311\n",
      "\n",
      "Epoch 00004: val_acc improved from 0.84731 to 0.93114, saving model to weights\\weights_RNN_1.hdf5\n",
      "Epoch 5/5\n",
      " - 13s - loss: 0.1779 - acc: 0.9487 - val_loss: 0.2111 - val_acc: 0.9341\n",
      "\n",
      "Epoch 00005: val_acc improved from 0.93114 to 0.93413, saving model to weights\\weights_RNN_1.hdf5\n",
      "RNN 2\n",
      "3\n",
      "115\n",
      "<keras.optimizers.Adagrad object at 0x7f444f4f61d0>\n",
      "Train on 1891 samples, validate on 334 samples\n",
      "Epoch 1/5\n",
      " - 60s - loss: 1.6214 - acc: 0.3078 - val_loss: 1.4905 - val_acc: 0.3772\n",
      "\n",
      "Epoch 00001: val_acc improved from -inf to 0.37725, saving model to weights\\weights_RNN_2.hdf5\n",
      "Epoch 2/5\n",
      " - 55s - loss: 1.0453 - acc: 0.6108 - val_loss: 0.9588 - val_acc: 0.6737\n",
      "\n",
      "Epoch 00002: val_acc improved from 0.37725 to 0.67365, saving model to weights\\weights_RNN_2.hdf5\n",
      "Epoch 3/5\n",
      " - 56s - loss: 0.6870 - acc: 0.7626 - val_loss: 0.5496 - val_acc: 0.8263\n",
      "\n",
      "Epoch 00003: val_acc improved from 0.67365 to 0.82635, saving model to weights\\weights_RNN_2.hdf5\n",
      "Epoch 4/5\n",
      " - 56s - loss: 0.3600 - acc: 0.8879 - val_loss: 0.3290 - val_acc: 0.9132\n",
      "\n",
      "Epoch 00004: val_acc improved from 0.82635 to 0.91317, saving model to weights\\weights_RNN_2.hdf5\n",
      "Epoch 5/5\n",
      " - 55s - loss: 0.2073 - acc: 0.9424 - val_loss: 0.2049 - val_acc: 0.9491\n",
      "\n",
      "Epoch 00005: val_acc improved from 0.91317 to 0.94910, saving model to weights\\weights_RNN_2.hdf5\n",
      "CNN 0\n",
      "Filter   6\n",
      "Node   246\n",
      "<keras.optimizers.RMSprop object at 0x7f445c0fe2b0>\n",
      "Train on 1891 samples, validate on 334 samples\n",
      "Epoch 1/5\n",
      " - 91s - loss: 12.4960 - acc: 0.1835 - val_loss: 12.7883 - val_acc: 0.2066\n",
      "\n",
      "Epoch 00001: val_acc improved from -inf to 0.20659, saving model to weights\\weights_CNN_0.hdf5\n",
      "Epoch 2/5\n",
      " - 76s - loss: 13.2883 - acc: 0.1756 - val_loss: 12.7883 - val_acc: 0.2066\n",
      "\n",
      "Epoch 00002: val_acc did not improve from 0.20659\n",
      "Epoch 3/5\n",
      " - 76s - loss: 13.2883 - acc: 0.1756 - val_loss: 12.7883 - val_acc: 0.2066\n",
      "\n",
      "Epoch 00003: val_acc did not improve from 0.20659\n",
      "Epoch 4/5\n",
      " - 76s - loss: 13.2883 - acc: 0.1756 - val_loss: 12.7883 - val_acc: 0.2066\n",
      "\n",
      "Epoch 00004: val_acc did not improve from 0.20659\n",
      "Epoch 5/5\n",
      " - 76s - loss: 13.2883 - acc: 0.1756 - val_loss: 12.7883 - val_acc: 0.2066\n",
      "\n",
      "Epoch 00005: val_acc did not improve from 0.20659\n",
      "CNN 1\n",
      "Filter   5\n",
      "Node   478\n",
      "<keras.optimizers.Adam object at 0x7f444c6e0400>\n",
      "Train on 1891 samples, validate on 334 samples\n",
      "Epoch 1/5\n",
      " - 205s - loss: 11.2075 - acc: 0.2062 - val_loss: 12.7263 - val_acc: 0.1796\n",
      "\n",
      "Epoch 00001: val_acc improved from -inf to 0.17964, saving model to weights\\weights_CNN_1.hdf5\n",
      "Epoch 2/5\n",
      " - 185s - loss: 12.8011 - acc: 0.1888 - val_loss: 11.4326 - val_acc: 0.2545\n",
      "\n",
      "Epoch 00002: val_acc improved from 0.17964 to 0.25449, saving model to weights\\weights_CNN_1.hdf5\n"
     ]
    },
    {
     "name": "stdout",
     "output_type": "stream",
     "text": [
      "Epoch 3/5\n",
      " - 154s - loss: 12.4928 - acc: 0.2226 - val_loss: 12.0162 - val_acc: 0.2545\n",
      "\n",
      "Epoch 00003: val_acc did not improve from 0.25449\n",
      "Epoch 4/5\n",
      " - 155s - loss: 12.4956 - acc: 0.2247 - val_loss: 12.0162 - val_acc: 0.2545\n",
      "\n",
      "Epoch 00004: val_acc did not improve from 0.25449\n",
      "Epoch 5/5\n",
      " - 160s - loss: 12.4956 - acc: 0.2247 - val_loss: 12.0162 - val_acc: 0.2545\n",
      "\n",
      "Epoch 00005: val_acc did not improve from 0.25449\n",
      "CNN 2\n",
      "Filter   7\n",
      "Node   353\n",
      "<keras.optimizers.Adagrad object at 0x7f444b5f8240>\n",
      "Train on 1891 samples, validate on 334 samples\n",
      "Epoch 1/5\n",
      " - 156s - loss: 11.7781 - acc: 0.2247 - val_loss: 12.4505 - val_acc: 0.2275\n",
      "\n",
      "Epoch 00001: val_acc improved from -inf to 0.22754, saving model to weights\\weights_CNN_2.hdf5\n",
      "Epoch 2/5\n",
      " - 144s - loss: 12.4103 - acc: 0.2300 - val_loss: 12.4505 - val_acc: 0.2275\n",
      "\n",
      "Epoch 00002: val_acc did not improve from 0.22754\n",
      "Epoch 3/5\n",
      " - 145s - loss: 12.4103 - acc: 0.2300 - val_loss: 12.4505 - val_acc: 0.2275\n",
      "\n",
      "Epoch 00003: val_acc did not improve from 0.22754\n",
      "Epoch 4/5\n",
      " - 149s - loss: 12.4103 - acc: 0.2300 - val_loss: 12.4505 - val_acc: 0.2275\n",
      "\n",
      "Epoch 00004: val_acc did not improve from 0.22754\n",
      "Epoch 5/5\n",
      " - 151s - loss: 12.4103 - acc: 0.2300 - val_loss: 12.4505 - val_acc: 0.2275\n",
      "\n",
      "Epoch 00005: val_acc did not improve from 0.22754\n",
      "(334, 9)\n",
      "Accuracy of 9 models: [0.6077844311377245, 0.9730538922155688, 0.9760479041916168, 0.8562874251497006, 0.9341317365269461, 0.9491017964071856, 0.20658682634730538, 0.25449101796407186, 0.2275449101796407]\n",
      "Accuracy: 0.9730538922155688\n",
      "F1_Micro: (0.9730538922155688, 0.9730538922155688, 0.9730538922155688, None)\n",
      "F1_Macro: (0.9737282315297424, 0.9680926916221033, 0.9702444173236138, None)\n",
      "F1_weighted: (0.9740242932775871, 0.9730538922155688, 0.9730133854400906, None)\n"
     ]
    }
   ],
   "source": [
    "#batch_size should not be very small neither too big\n",
    "batch_size = 128\n",
    "\n",
    "#epoch for DNN , RNN and CNN\n",
    "n_epochs = [5, 5, 5]  ## DNN--RNN-CNN\n",
    "Random_Deep = [3, 3, 3]  ## DNN--RNN-CNN\n",
    "no_of_classes = 5\n",
    "RMDL.Text_Classification(np.array(train_text), np.array(train_labels), np.array(test_text),\n",
    "                         np.array(test_labels),\n",
    "                         GloVe_dir = '/home/Documents/Glove/glove.6B',\n",
    "                         batch_size=batch_size,\n",
    "                         sparse_categorical=True,\n",
    "                         random_deep=Random_Deep,\n",
    "                         epochs=n_epochs, no_of_classes=no_of_classes)"
   ]
  },
  {
   "cell_type": "markdown",
   "metadata": {},
   "source": [
    "Accuracy: 0.9730538922155688"
   ]
  },
  {
   "cell_type": "code",
   "execution_count": null,
   "metadata": {},
   "outputs": [],
   "source": []
  }
 ],
 "metadata": {
  "kernelspec": {
   "display_name": "Python 3",
   "language": "python",
   "name": "python3"
  },
  "language_info": {
   "codemirror_mode": {
    "name": "ipython",
    "version": 3
   },
   "file_extension": ".py",
   "mimetype": "text/x-python",
   "name": "python",
   "nbconvert_exporter": "python",
   "pygments_lexer": "ipython3",
   "version": "3.6.8"
  }
 },
 "nbformat": 4,
 "nbformat_minor": 2
}
